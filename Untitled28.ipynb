{
 "cells": [
  {
   "cell_type": "code",
   "execution_count": 36,
   "metadata": {},
   "outputs": [],
   "source": [
    "from selenium import webdriver\n",
    "import time"
   ]
  },
  {
   "cell_type": "code",
   "execution_count": 29,
   "metadata": {},
   "outputs": [],
   "source": [
    "driver = webdriver.Chrome(executable_path= \"C:/New folder/chromedriver.exe\")"
   ]
  },
  {
   "cell_type": "code",
   "execution_count": 30,
   "metadata": {},
   "outputs": [
    {
     "data": {
      "text/plain": [
       "<selenium.webdriver.chrome.webdriver.WebDriver (session=\"e5270a008bc150ea384e3cda1d2c2b1b\")>"
      ]
     },
     "execution_count": 30,
     "metadata": {},
     "output_type": "execute_result"
    }
   ],
   "source": [
    "driver"
   ]
  },
  {
   "cell_type": "code",
   "execution_count": 31,
   "metadata": {},
   "outputs": [],
   "source": [
    "#.get"
   ]
  },
  {
   "cell_type": "code",
   "execution_count": 32,
   "metadata": {},
   "outputs": [],
   "source": [
    "driver.get(\"https://www.eurasiaonline.ie/store/Above-5-Kg-c48470739\")"
   ]
  },
  {
   "cell_type": "code",
   "execution_count": 33,
   "metadata": {},
   "outputs": [],
   "source": [
    "#.close"
   ]
  },
  {
   "cell_type": "code",
   "execution_count": 34,
   "metadata": {},
   "outputs": [],
   "source": [
    "# driver.close()"
   ]
  },
  {
   "cell_type": "code",
   "execution_count": 27,
   "metadata": {},
   "outputs": [],
   "source": [
    "#.back"
   ]
  },
  {
   "cell_type": "code",
   "execution_count": 38,
   "metadata": {},
   "outputs": [],
   "source": [
    "driver = webdriver.Chrome(executable_path= \"C:/New folder/chromedriver.exe\")\n",
    "driver.get(\"https://www.eurasiaonline.ie/store/Above-5-Kg-c48470739\")\n",
    "time.sleep(5)\n",
    "driver.get(\"https://www.eurasiaonline.ie/store/-c48470740\")\n",
    "time.sleep(5)\n",
    "driver.back()\n",
    "driver.close()"
   ]
  },
  {
   "cell_type": "code",
   "execution_count": 40,
   "metadata": {},
   "outputs": [],
   "source": [
    "#forwed"
   ]
  },
  {
   "cell_type": "code",
   "execution_count": 39,
   "metadata": {},
   "outputs": [],
   "source": [
    "#locating Element"
   ]
  },
  {
   "cell_type": "code",
   "execution_count": 48,
   "metadata": {},
   "outputs": [
    {
     "name": "stdout",
     "output_type": "stream",
     "text": [
      "<selenium.webdriver.remote.webelement.WebElement (session=\"d6cebccb5032d1a907ef39c1c0fb28dd\", element=\"27f7e024-6c1a-4347-8df3-cf805640e01b\")>\n"
     ]
    }
   ],
   "source": [
    "driver = webdriver.Chrome(executable_path= \"C:/New folder/chromedriver.exe\")\n",
    "driver.get(\"https://www.eurasiaonline.ie/store/Above-5-Kg-c48470739\")\n",
    "time.sleep(5)\n",
    "#find single element\n",
    "element = driver.find_element_by_xpath('//*[@id=\"my-store-15331630\"]/div/div/div/div[2]/div/div[2]/div/div[1]/div/div[2]/div[2]/div[2]/div/div[1]/div/div[2]/a[2]/div')\n",
    "print(element)\n"
   ]
  },
  {
   "cell_type": "code",
   "execution_count": 49,
   "metadata": {},
   "outputs": [],
   "source": [
    "#find element by class name"
   ]
  },
  {
   "cell_type": "code",
   "execution_count": 54,
   "metadata": {
    "collapsed": true
   },
   "outputs": [
    {
     "ename": "WebDriverException",
     "evalue": "Message: chrome not reachable\n  (Session info: chrome=90.0.4430.93)\n",
     "output_type": "error",
     "traceback": [
      "\u001b[1;31m---------------------------------------------------------------------------\u001b[0m",
      "\u001b[1;31mWebDriverException\u001b[0m                        Traceback (most recent call last)",
      "\u001b[1;32m<ipython-input-54-21ea0cbdd0ee>\u001b[0m in \u001b[0;36m<module>\u001b[1;34m\u001b[0m\n\u001b[0;32m      4\u001b[0m \u001b[1;33m\u001b[0m\u001b[0m\n\u001b[0;32m      5\u001b[0m \u001b[1;33m\u001b[0m\u001b[0m\n\u001b[1;32m----> 6\u001b[1;33m \u001b[0melement\u001b[0m \u001b[1;33m=\u001b[0m \u001b[0mdriver\u001b[0m\u001b[1;33m.\u001b[0m\u001b[0mfind_element_by_class_name\u001b[0m\u001b[1;33m(\u001b[0m\u001b[1;34m'//*[@id=\"my-store-15331630\"]/div/div/div/div[2]/div/div[2]/div/div[1]/div/div[2]/div[2]/div[2]/div/div[2]/div/div[2]/a[1]/div[4]'\u001b[0m\u001b[1;33m)\u001b[0m\u001b[1;33m\u001b[0m\u001b[1;33m\u001b[0m\u001b[0m\n\u001b[0m\u001b[0;32m      7\u001b[0m \u001b[0mprint\u001b[0m\u001b[1;33m(\u001b[0m\u001b[0melement\u001b[0m\u001b[1;33m)\u001b[0m\u001b[1;33m\u001b[0m\u001b[1;33m\u001b[0m\u001b[0m\n\u001b[0;32m      8\u001b[0m \u001b[1;33m\u001b[0m\u001b[0m\n",
      "\u001b[1;32mC:\\ProgramData\\Anaconda3\\lib\\site-packages\\selenium\\webdriver\\remote\\webdriver.py\u001b[0m in \u001b[0;36mfind_element_by_class_name\u001b[1;34m(self, name)\u001b[0m\n\u001b[0;32m    562\u001b[0m             \u001b[0melement\u001b[0m \u001b[1;33m=\u001b[0m \u001b[0mdriver\u001b[0m\u001b[1;33m.\u001b[0m\u001b[0mfind_element_by_class_name\u001b[0m\u001b[1;33m(\u001b[0m\u001b[1;34m'foo'\u001b[0m\u001b[1;33m)\u001b[0m\u001b[1;33m\u001b[0m\u001b[1;33m\u001b[0m\u001b[0m\n\u001b[0;32m    563\u001b[0m         \"\"\"\n\u001b[1;32m--> 564\u001b[1;33m         \u001b[1;32mreturn\u001b[0m \u001b[0mself\u001b[0m\u001b[1;33m.\u001b[0m\u001b[0mfind_element\u001b[0m\u001b[1;33m(\u001b[0m\u001b[0mby\u001b[0m\u001b[1;33m=\u001b[0m\u001b[0mBy\u001b[0m\u001b[1;33m.\u001b[0m\u001b[0mCLASS_NAME\u001b[0m\u001b[1;33m,\u001b[0m \u001b[0mvalue\u001b[0m\u001b[1;33m=\u001b[0m\u001b[0mname\u001b[0m\u001b[1;33m)\u001b[0m\u001b[1;33m\u001b[0m\u001b[1;33m\u001b[0m\u001b[0m\n\u001b[0m\u001b[0;32m    565\u001b[0m \u001b[1;33m\u001b[0m\u001b[0m\n\u001b[0;32m    566\u001b[0m     \u001b[1;32mdef\u001b[0m \u001b[0mfind_elements_by_class_name\u001b[0m\u001b[1;33m(\u001b[0m\u001b[0mself\u001b[0m\u001b[1;33m,\u001b[0m \u001b[0mname\u001b[0m\u001b[1;33m)\u001b[0m\u001b[1;33m:\u001b[0m\u001b[1;33m\u001b[0m\u001b[1;33m\u001b[0m\u001b[0m\n",
      "\u001b[1;32mC:\\ProgramData\\Anaconda3\\lib\\site-packages\\selenium\\webdriver\\remote\\webdriver.py\u001b[0m in \u001b[0;36mfind_element\u001b[1;34m(self, by, value)\u001b[0m\n\u001b[0;32m    974\u001b[0m                 \u001b[0mby\u001b[0m \u001b[1;33m=\u001b[0m \u001b[0mBy\u001b[0m\u001b[1;33m.\u001b[0m\u001b[0mCSS_SELECTOR\u001b[0m\u001b[1;33m\u001b[0m\u001b[1;33m\u001b[0m\u001b[0m\n\u001b[0;32m    975\u001b[0m                 \u001b[0mvalue\u001b[0m \u001b[1;33m=\u001b[0m \u001b[1;34m'[name=\"%s\"]'\u001b[0m \u001b[1;33m%\u001b[0m \u001b[0mvalue\u001b[0m\u001b[1;33m\u001b[0m\u001b[1;33m\u001b[0m\u001b[0m\n\u001b[1;32m--> 976\u001b[1;33m         return self.execute(Command.FIND_ELEMENT, {\n\u001b[0m\u001b[0;32m    977\u001b[0m             \u001b[1;34m'using'\u001b[0m\u001b[1;33m:\u001b[0m \u001b[0mby\u001b[0m\u001b[1;33m,\u001b[0m\u001b[1;33m\u001b[0m\u001b[1;33m\u001b[0m\u001b[0m\n\u001b[0;32m    978\u001b[0m             'value': value})['value']\n",
      "\u001b[1;32mC:\\ProgramData\\Anaconda3\\lib\\site-packages\\selenium\\webdriver\\remote\\webdriver.py\u001b[0m in \u001b[0;36mexecute\u001b[1;34m(self, driver_command, params)\u001b[0m\n\u001b[0;32m    319\u001b[0m         \u001b[0mresponse\u001b[0m \u001b[1;33m=\u001b[0m \u001b[0mself\u001b[0m\u001b[1;33m.\u001b[0m\u001b[0mcommand_executor\u001b[0m\u001b[1;33m.\u001b[0m\u001b[0mexecute\u001b[0m\u001b[1;33m(\u001b[0m\u001b[0mdriver_command\u001b[0m\u001b[1;33m,\u001b[0m \u001b[0mparams\u001b[0m\u001b[1;33m)\u001b[0m\u001b[1;33m\u001b[0m\u001b[1;33m\u001b[0m\u001b[0m\n\u001b[0;32m    320\u001b[0m         \u001b[1;32mif\u001b[0m \u001b[0mresponse\u001b[0m\u001b[1;33m:\u001b[0m\u001b[1;33m\u001b[0m\u001b[1;33m\u001b[0m\u001b[0m\n\u001b[1;32m--> 321\u001b[1;33m             \u001b[0mself\u001b[0m\u001b[1;33m.\u001b[0m\u001b[0merror_handler\u001b[0m\u001b[1;33m.\u001b[0m\u001b[0mcheck_response\u001b[0m\u001b[1;33m(\u001b[0m\u001b[0mresponse\u001b[0m\u001b[1;33m)\u001b[0m\u001b[1;33m\u001b[0m\u001b[1;33m\u001b[0m\u001b[0m\n\u001b[0m\u001b[0;32m    322\u001b[0m             response['value'] = self._unwrap_value(\n\u001b[0;32m    323\u001b[0m                 response.get('value', None))\n",
      "\u001b[1;32mC:\\ProgramData\\Anaconda3\\lib\\site-packages\\selenium\\webdriver\\remote\\errorhandler.py\u001b[0m in \u001b[0;36mcheck_response\u001b[1;34m(self, response)\u001b[0m\n\u001b[0;32m    240\u001b[0m                 \u001b[0malert_text\u001b[0m \u001b[1;33m=\u001b[0m \u001b[0mvalue\u001b[0m\u001b[1;33m[\u001b[0m\u001b[1;34m'alert'\u001b[0m\u001b[1;33m]\u001b[0m\u001b[1;33m.\u001b[0m\u001b[0mget\u001b[0m\u001b[1;33m(\u001b[0m\u001b[1;34m'text'\u001b[0m\u001b[1;33m)\u001b[0m\u001b[1;33m\u001b[0m\u001b[1;33m\u001b[0m\u001b[0m\n\u001b[0;32m    241\u001b[0m             \u001b[1;32mraise\u001b[0m \u001b[0mexception_class\u001b[0m\u001b[1;33m(\u001b[0m\u001b[0mmessage\u001b[0m\u001b[1;33m,\u001b[0m \u001b[0mscreen\u001b[0m\u001b[1;33m,\u001b[0m \u001b[0mstacktrace\u001b[0m\u001b[1;33m,\u001b[0m \u001b[0malert_text\u001b[0m\u001b[1;33m)\u001b[0m\u001b[1;33m\u001b[0m\u001b[1;33m\u001b[0m\u001b[0m\n\u001b[1;32m--> 242\u001b[1;33m         \u001b[1;32mraise\u001b[0m \u001b[0mexception_class\u001b[0m\u001b[1;33m(\u001b[0m\u001b[0mmessage\u001b[0m\u001b[1;33m,\u001b[0m \u001b[0mscreen\u001b[0m\u001b[1;33m,\u001b[0m \u001b[0mstacktrace\u001b[0m\u001b[1;33m)\u001b[0m\u001b[1;33m\u001b[0m\u001b[1;33m\u001b[0m\u001b[0m\n\u001b[0m\u001b[0;32m    243\u001b[0m \u001b[1;33m\u001b[0m\u001b[0m\n\u001b[0;32m    244\u001b[0m     \u001b[1;32mdef\u001b[0m \u001b[0m_value_or_default\u001b[0m\u001b[1;33m(\u001b[0m\u001b[0mself\u001b[0m\u001b[1;33m,\u001b[0m \u001b[0mobj\u001b[0m\u001b[1;33m,\u001b[0m \u001b[0mkey\u001b[0m\u001b[1;33m,\u001b[0m \u001b[0mdefault\u001b[0m\u001b[1;33m)\u001b[0m\u001b[1;33m:\u001b[0m\u001b[1;33m\u001b[0m\u001b[1;33m\u001b[0m\u001b[0m\n",
      "\u001b[1;31mWebDriverException\u001b[0m: Message: chrome not reachable\n  (Session info: chrome=90.0.4430.93)\n"
     ]
    }
   ],
   "source": [
    "driver = webdriver.Chrome(executable_path= \"C:/New folder/chromedriver.exe\")\n",
    "driver.get(\"https://www.eurasiaonline.ie/store/Above-5-Kg-c48470739\")\n",
    "time.sleep(5)\n",
    "\n",
    "\n",
    "element = driver.find_element_by_class_name('//*[@id=\"my-store-15331630\"]/div/div/div/div[2]/div/div[2]/div/div[1]/div/div[2]/div[2]/div[2]/div/div[2]/div/div[2]/a[1]/div[4]')\n",
    "print(element)\n",
    "\n"
   ]
  },
  {
   "cell_type": "code",
   "execution_count": 55,
   "metadata": {},
   "outputs": [],
   "source": [
    "#find element by x_path"
   ]
  },
  {
   "cell_type": "code",
   "execution_count": 57,
   "metadata": {},
   "outputs": [
    {
     "name": "stdout",
     "output_type": "stream",
     "text": [
      "[<selenium.webdriver.remote.webelement.WebElement (session=\"090050eb14c112c70508f03195737275\", element=\"a3b59338-b6dd-4529-a7e1-730dd934ef02\")>, <selenium.webdriver.remote.webelement.WebElement (session=\"090050eb14c112c70508f03195737275\", element=\"c0471381-1624-40cf-ab4e-c83845ae6f87\")>, <selenium.webdriver.remote.webelement.WebElement (session=\"090050eb14c112c70508f03195737275\", element=\"7353472b-d8e1-455c-9cd0-aeafc70902d4\")>, <selenium.webdriver.remote.webelement.WebElement (session=\"090050eb14c112c70508f03195737275\", element=\"e0188c82-89be-49eb-afdc-93294a5dc6d9\")>, <selenium.webdriver.remote.webelement.WebElement (session=\"090050eb14c112c70508f03195737275\", element=\"7b10df25-5737-425b-a5ee-b1c7d1ec8a64\")>, <selenium.webdriver.remote.webelement.WebElement (session=\"090050eb14c112c70508f03195737275\", element=\"350022a5-4a24-4434-a764-398f5ed444e8\")>, <selenium.webdriver.remote.webelement.WebElement (session=\"090050eb14c112c70508f03195737275\", element=\"44503f53-082c-4c37-9209-5d58b9e3b06f\")>, <selenium.webdriver.remote.webelement.WebElement (session=\"090050eb14c112c70508f03195737275\", element=\"9ae7cdb5-acf0-4484-90e5-d44ec968738a\")>, <selenium.webdriver.remote.webelement.WebElement (session=\"090050eb14c112c70508f03195737275\", element=\"8d56d3b9-8aeb-4339-a4f6-e07d53f7bcca\")>, <selenium.webdriver.remote.webelement.WebElement (session=\"090050eb14c112c70508f03195737275\", element=\"c845f2fa-dbe4-4e66-a3e5-e0361ab68d26\")>, <selenium.webdriver.remote.webelement.WebElement (session=\"090050eb14c112c70508f03195737275\", element=\"cf563f92-cdf1-4f7d-8b51-9d24a15fc38d\")>, <selenium.webdriver.remote.webelement.WebElement (session=\"090050eb14c112c70508f03195737275\", element=\"36e90fa7-ede5-4234-afc7-4becf3ebe722\")>, <selenium.webdriver.remote.webelement.WebElement (session=\"090050eb14c112c70508f03195737275\", element=\"bcbb5013-74f4-49c3-b352-aebeb2e447ca\")>, <selenium.webdriver.remote.webelement.WebElement (session=\"090050eb14c112c70508f03195737275\", element=\"241a130a-5d95-461c-bc51-a4c536c42888\")>, <selenium.webdriver.remote.webelement.WebElement (session=\"090050eb14c112c70508f03195737275\", element=\"2d6b7ef3-0bfa-4981-83f7-b86558c4750a\")>, <selenium.webdriver.remote.webelement.WebElement (session=\"090050eb14c112c70508f03195737275\", element=\"ab0df06b-2a90-40c9-8d5d-5eca1a59b473\")>, <selenium.webdriver.remote.webelement.WebElement (session=\"090050eb14c112c70508f03195737275\", element=\"10fd0cd3-2646-42a0-a94f-a5ea34fd6053\")>]\n"
     ]
    }
   ],
   "source": [
    "driver = webdriver.Chrome(executable_path= \"C:/New folder/chromedriver.exe\")\n",
    "driver.get(\"https://www.eurasiaonline.ie/store/Above-5-Kg-c48470739\")\n",
    "time.sleep(5)\n",
    "\n",
    "\n",
    "\n",
    "element = driver.find_elements_by_xpath('//div[@class=\"grid-product__shadow ec-text-muted\"]')\n",
    "print(element)"
   ]
  },
  {
   "cell_type": "code",
   "execution_count": 63,
   "metadata": {},
   "outputs": [
    {
     "name": "stdout",
     "output_type": "stream",
     "text": [
      "\n"
     ]
    }
   ],
   "source": [
    "driver = webdriver.Chrome(executable_path= \"C:/New folder/chromedriver.exe\")\n",
    "driver.get(\"https://www.eurasiaonline.ie/store/Above-5-Kg-c48470739\")\n",
    "time.sleep(5)\n",
    "\n",
    "\n",
    "element = driver.find_element_by_xpath('//*[@id=\"my-store-15331630\"]/div/div/div/div[2]/div/div[2]/div/div[1]/div/div[2]/div[2]/div[2]/div/div[2]/div/div[2]/a[1]/div[4]')\n",
    "print(element.text)"
   ]
  },
  {
   "cell_type": "code",
   "execution_count": 61,
   "metadata": {
    "scrolled": true
   },
   "outputs": [
    {
     "name": "stdout",
     "output_type": "stream",
     "text": [
      "<div class=\"grid-product__shadow-inner\">Ashvill Chakki Atta 10 Kg</div>\n"
     ]
    }
   ],
   "source": [
    "driver = webdriver.Chrome(executable_path= \"C:/New folder/chromedriver.exe\")\n",
    "driver.get(\"https://www.eurasiaonline.ie/store/Above-5-Kg-c48470739\")\n",
    "time.sleep(5)\n",
    "\n",
    "\n",
    "element = driver.find_element_by_xpath('//*[@id=\"my-store-15331630\"]/div/div/div/div[2]/div/div[2]/div/div[1]/div/div[2]/div[2]/div[2]/div/div[2]/div/div[2]/a[1]/div[4]')\n",
    "print(element.get_attribute(\"innerHTML\")) "
   ]
  },
  {
   "cell_type": "code",
   "execution_count": 76,
   "metadata": {},
   "outputs": [
    {
     "name": "stdout",
     "output_type": "stream",
     "text": [
      "None\n"
     ]
    }
   ],
   "source": [
    "driver = webdriver.Chrome(executable_path= \"C:/New folder/chromedriver.exe\")\n",
    "driver.get(\"https://www.eurasiaonline.ie/store/Above-5-Kg-c48470739\")\n",
    "time.sleep(5)\n",
    "\n",
    "element = driver.find_element_by_xpath('//*[@id=\"my-store-15331630\"]/div/div/div/div[2]/div/div[2]/div/div[2]')\n",
    "print(element.get_attribute(\"innerHTMl\"))"
   ]
  },
  {
   "cell_type": "code",
   "execution_count": 69,
   "metadata": {},
   "outputs": [
    {
     "name": "stdout",
     "output_type": "stream",
     "text": [
      "https://www.eurasiaonline.ie/store/Aashirvaad-Chakki-Atta-10-Kg-p188932771\n",
      "https://www.eurasiaonline.ie/store/Ashvill-Chakki-Atta-10-Kg-p188932835\n",
      "https://www.eurasiaonline.ie/store/Ashvill-Chakki-Atta-20-Kg-p188932836\n",
      "https://www.eurasiaonline.ie/store/East-End-Chakki-Gold-Atta-10-Kg-p188974154\n",
      "https://www.eurasiaonline.ie/store/Elephant-Atta-Medium-10-Kg-p188974268\n",
      "https://www.eurasiaonline.ie/store/Elephant-Atta-Medium-25-Kg-p188974269\n",
      "https://www.eurasiaonline.ie/store/Elephant-Atta-White-10-Kg-p188974270\n",
      "https://www.eurasiaonline.ie/store/Elephant-Brown-Atta-10-Kg-p188974271\n",
      "https://www.eurasiaonline.ie/store/Elite-Chakki-Atta-10-Kg-p188974273\n",
      "https://www.eurasiaonline.ie/store/Elite-Chakki-Atta-10-Kg-p188974274\n",
      "https://www.eurasiaonline.ie/store/Heera-Chapatti-Flour-25-Kg-p188974517\n",
      "https://www.eurasiaonline.ie/store/Heera-Chapatti-Medium-10-Kg-p188974518\n",
      "https://www.eurasiaonline.ie/store/Iwisa-Flour-10-Kg-p188974692\n",
      "https://www.eurasiaonline.ie/store/Pillsbury-Chakki-Atta-10-Kg-p188975075\n",
      "https://www.eurasiaonline.ie/store/Swarna-Chakki-Fresh-Atta-10-Kg-p188975372\n",
      "https://www.eurasiaonline.ie/store/Anil-Atta-10Kg-p283220946\n",
      "https://www.eurasiaonline.ie/store/Anil-Chakki-Atta-10Kg-p283225642\n"
     ]
    }
   ],
   "source": [
    "driver = webdriver.Chrome(executable_path= \"C:/New folder/chromedriver.exe\")\n",
    "driver.get(\"https://www.eurasiaonline.ie/store/Above-5-Kg-c48470739\")\n",
    "time.sleep(5)\n",
    "\n",
    "element = driver.find_elements_by_class_name(\"grid-product__title\")\n",
    "for i in element:\n",
    "    print(i.get_attribute(\"href\"))"
   ]
  },
  {
   "cell_type": "code",
   "execution_count": 71,
   "metadata": {},
   "outputs": [
    {
     "name": "stdout",
     "output_type": "stream",
     "text": [
      "['https://www.eurasiaonline.ie/store/Aashirvaad-Chakki-Atta-10-Kg-p188932771']\n",
      "['https://www.eurasiaonline.ie/store/Aashirvaad-Chakki-Atta-10-Kg-p188932771', 'https://www.eurasiaonline.ie/store/Ashvill-Chakki-Atta-10-Kg-p188932835']\n",
      "['https://www.eurasiaonline.ie/store/Aashirvaad-Chakki-Atta-10-Kg-p188932771', 'https://www.eurasiaonline.ie/store/Ashvill-Chakki-Atta-10-Kg-p188932835', 'https://www.eurasiaonline.ie/store/Ashvill-Chakki-Atta-20-Kg-p188932836']\n",
      "['https://www.eurasiaonline.ie/store/Aashirvaad-Chakki-Atta-10-Kg-p188932771', 'https://www.eurasiaonline.ie/store/Ashvill-Chakki-Atta-10-Kg-p188932835', 'https://www.eurasiaonline.ie/store/Ashvill-Chakki-Atta-20-Kg-p188932836', 'https://www.eurasiaonline.ie/store/East-End-Chakki-Gold-Atta-10-Kg-p188974154']\n",
      "['https://www.eurasiaonline.ie/store/Aashirvaad-Chakki-Atta-10-Kg-p188932771', 'https://www.eurasiaonline.ie/store/Ashvill-Chakki-Atta-10-Kg-p188932835', 'https://www.eurasiaonline.ie/store/Ashvill-Chakki-Atta-20-Kg-p188932836', 'https://www.eurasiaonline.ie/store/East-End-Chakki-Gold-Atta-10-Kg-p188974154', 'https://www.eurasiaonline.ie/store/Elephant-Atta-Medium-10-Kg-p188974268']\n",
      "['https://www.eurasiaonline.ie/store/Aashirvaad-Chakki-Atta-10-Kg-p188932771', 'https://www.eurasiaonline.ie/store/Ashvill-Chakki-Atta-10-Kg-p188932835', 'https://www.eurasiaonline.ie/store/Ashvill-Chakki-Atta-20-Kg-p188932836', 'https://www.eurasiaonline.ie/store/East-End-Chakki-Gold-Atta-10-Kg-p188974154', 'https://www.eurasiaonline.ie/store/Elephant-Atta-Medium-10-Kg-p188974268', 'https://www.eurasiaonline.ie/store/Elephant-Atta-Medium-25-Kg-p188974269']\n",
      "['https://www.eurasiaonline.ie/store/Aashirvaad-Chakki-Atta-10-Kg-p188932771', 'https://www.eurasiaonline.ie/store/Ashvill-Chakki-Atta-10-Kg-p188932835', 'https://www.eurasiaonline.ie/store/Ashvill-Chakki-Atta-20-Kg-p188932836', 'https://www.eurasiaonline.ie/store/East-End-Chakki-Gold-Atta-10-Kg-p188974154', 'https://www.eurasiaonline.ie/store/Elephant-Atta-Medium-10-Kg-p188974268', 'https://www.eurasiaonline.ie/store/Elephant-Atta-Medium-25-Kg-p188974269', 'https://www.eurasiaonline.ie/store/Elephant-Atta-White-10-Kg-p188974270']\n",
      "['https://www.eurasiaonline.ie/store/Aashirvaad-Chakki-Atta-10-Kg-p188932771', 'https://www.eurasiaonline.ie/store/Ashvill-Chakki-Atta-10-Kg-p188932835', 'https://www.eurasiaonline.ie/store/Ashvill-Chakki-Atta-20-Kg-p188932836', 'https://www.eurasiaonline.ie/store/East-End-Chakki-Gold-Atta-10-Kg-p188974154', 'https://www.eurasiaonline.ie/store/Elephant-Atta-Medium-10-Kg-p188974268', 'https://www.eurasiaonline.ie/store/Elephant-Atta-Medium-25-Kg-p188974269', 'https://www.eurasiaonline.ie/store/Elephant-Atta-White-10-Kg-p188974270', 'https://www.eurasiaonline.ie/store/Elephant-Brown-Atta-10-Kg-p188974271']\n",
      "['https://www.eurasiaonline.ie/store/Aashirvaad-Chakki-Atta-10-Kg-p188932771', 'https://www.eurasiaonline.ie/store/Ashvill-Chakki-Atta-10-Kg-p188932835', 'https://www.eurasiaonline.ie/store/Ashvill-Chakki-Atta-20-Kg-p188932836', 'https://www.eurasiaonline.ie/store/East-End-Chakki-Gold-Atta-10-Kg-p188974154', 'https://www.eurasiaonline.ie/store/Elephant-Atta-Medium-10-Kg-p188974268', 'https://www.eurasiaonline.ie/store/Elephant-Atta-Medium-25-Kg-p188974269', 'https://www.eurasiaonline.ie/store/Elephant-Atta-White-10-Kg-p188974270', 'https://www.eurasiaonline.ie/store/Elephant-Brown-Atta-10-Kg-p188974271', 'https://www.eurasiaonline.ie/store/Elite-Chakki-Atta-10-Kg-p188974273']\n",
      "['https://www.eurasiaonline.ie/store/Aashirvaad-Chakki-Atta-10-Kg-p188932771', 'https://www.eurasiaonline.ie/store/Ashvill-Chakki-Atta-10-Kg-p188932835', 'https://www.eurasiaonline.ie/store/Ashvill-Chakki-Atta-20-Kg-p188932836', 'https://www.eurasiaonline.ie/store/East-End-Chakki-Gold-Atta-10-Kg-p188974154', 'https://www.eurasiaonline.ie/store/Elephant-Atta-Medium-10-Kg-p188974268', 'https://www.eurasiaonline.ie/store/Elephant-Atta-Medium-25-Kg-p188974269', 'https://www.eurasiaonline.ie/store/Elephant-Atta-White-10-Kg-p188974270', 'https://www.eurasiaonline.ie/store/Elephant-Brown-Atta-10-Kg-p188974271', 'https://www.eurasiaonline.ie/store/Elite-Chakki-Atta-10-Kg-p188974273', 'https://www.eurasiaonline.ie/store/Elite-Chakki-Atta-10-Kg-p188974274']\n",
      "['https://www.eurasiaonline.ie/store/Aashirvaad-Chakki-Atta-10-Kg-p188932771', 'https://www.eurasiaonline.ie/store/Ashvill-Chakki-Atta-10-Kg-p188932835', 'https://www.eurasiaonline.ie/store/Ashvill-Chakki-Atta-20-Kg-p188932836', 'https://www.eurasiaonline.ie/store/East-End-Chakki-Gold-Atta-10-Kg-p188974154', 'https://www.eurasiaonline.ie/store/Elephant-Atta-Medium-10-Kg-p188974268', 'https://www.eurasiaonline.ie/store/Elephant-Atta-Medium-25-Kg-p188974269', 'https://www.eurasiaonline.ie/store/Elephant-Atta-White-10-Kg-p188974270', 'https://www.eurasiaonline.ie/store/Elephant-Brown-Atta-10-Kg-p188974271', 'https://www.eurasiaonline.ie/store/Elite-Chakki-Atta-10-Kg-p188974273', 'https://www.eurasiaonline.ie/store/Elite-Chakki-Atta-10-Kg-p188974274', 'https://www.eurasiaonline.ie/store/Heera-Chapatti-Flour-25-Kg-p188974517']\n",
      "['https://www.eurasiaonline.ie/store/Aashirvaad-Chakki-Atta-10-Kg-p188932771', 'https://www.eurasiaonline.ie/store/Ashvill-Chakki-Atta-10-Kg-p188932835', 'https://www.eurasiaonline.ie/store/Ashvill-Chakki-Atta-20-Kg-p188932836', 'https://www.eurasiaonline.ie/store/East-End-Chakki-Gold-Atta-10-Kg-p188974154', 'https://www.eurasiaonline.ie/store/Elephant-Atta-Medium-10-Kg-p188974268', 'https://www.eurasiaonline.ie/store/Elephant-Atta-Medium-25-Kg-p188974269', 'https://www.eurasiaonline.ie/store/Elephant-Atta-White-10-Kg-p188974270', 'https://www.eurasiaonline.ie/store/Elephant-Brown-Atta-10-Kg-p188974271', 'https://www.eurasiaonline.ie/store/Elite-Chakki-Atta-10-Kg-p188974273', 'https://www.eurasiaonline.ie/store/Elite-Chakki-Atta-10-Kg-p188974274', 'https://www.eurasiaonline.ie/store/Heera-Chapatti-Flour-25-Kg-p188974517', 'https://www.eurasiaonline.ie/store/Heera-Chapatti-Medium-10-Kg-p188974518']\n",
      "['https://www.eurasiaonline.ie/store/Aashirvaad-Chakki-Atta-10-Kg-p188932771', 'https://www.eurasiaonline.ie/store/Ashvill-Chakki-Atta-10-Kg-p188932835', 'https://www.eurasiaonline.ie/store/Ashvill-Chakki-Atta-20-Kg-p188932836', 'https://www.eurasiaonline.ie/store/East-End-Chakki-Gold-Atta-10-Kg-p188974154', 'https://www.eurasiaonline.ie/store/Elephant-Atta-Medium-10-Kg-p188974268', 'https://www.eurasiaonline.ie/store/Elephant-Atta-Medium-25-Kg-p188974269', 'https://www.eurasiaonline.ie/store/Elephant-Atta-White-10-Kg-p188974270', 'https://www.eurasiaonline.ie/store/Elephant-Brown-Atta-10-Kg-p188974271', 'https://www.eurasiaonline.ie/store/Elite-Chakki-Atta-10-Kg-p188974273', 'https://www.eurasiaonline.ie/store/Elite-Chakki-Atta-10-Kg-p188974274', 'https://www.eurasiaonline.ie/store/Heera-Chapatti-Flour-25-Kg-p188974517', 'https://www.eurasiaonline.ie/store/Heera-Chapatti-Medium-10-Kg-p188974518', 'https://www.eurasiaonline.ie/store/Iwisa-Flour-10-Kg-p188974692']\n",
      "['https://www.eurasiaonline.ie/store/Aashirvaad-Chakki-Atta-10-Kg-p188932771', 'https://www.eurasiaonline.ie/store/Ashvill-Chakki-Atta-10-Kg-p188932835', 'https://www.eurasiaonline.ie/store/Ashvill-Chakki-Atta-20-Kg-p188932836', 'https://www.eurasiaonline.ie/store/East-End-Chakki-Gold-Atta-10-Kg-p188974154', 'https://www.eurasiaonline.ie/store/Elephant-Atta-Medium-10-Kg-p188974268', 'https://www.eurasiaonline.ie/store/Elephant-Atta-Medium-25-Kg-p188974269', 'https://www.eurasiaonline.ie/store/Elephant-Atta-White-10-Kg-p188974270', 'https://www.eurasiaonline.ie/store/Elephant-Brown-Atta-10-Kg-p188974271', 'https://www.eurasiaonline.ie/store/Elite-Chakki-Atta-10-Kg-p188974273', 'https://www.eurasiaonline.ie/store/Elite-Chakki-Atta-10-Kg-p188974274', 'https://www.eurasiaonline.ie/store/Heera-Chapatti-Flour-25-Kg-p188974517', 'https://www.eurasiaonline.ie/store/Heera-Chapatti-Medium-10-Kg-p188974518', 'https://www.eurasiaonline.ie/store/Iwisa-Flour-10-Kg-p188974692', 'https://www.eurasiaonline.ie/store/Pillsbury-Chakki-Atta-10-Kg-p188975075']\n",
      "['https://www.eurasiaonline.ie/store/Aashirvaad-Chakki-Atta-10-Kg-p188932771', 'https://www.eurasiaonline.ie/store/Ashvill-Chakki-Atta-10-Kg-p188932835', 'https://www.eurasiaonline.ie/store/Ashvill-Chakki-Atta-20-Kg-p188932836', 'https://www.eurasiaonline.ie/store/East-End-Chakki-Gold-Atta-10-Kg-p188974154', 'https://www.eurasiaonline.ie/store/Elephant-Atta-Medium-10-Kg-p188974268', 'https://www.eurasiaonline.ie/store/Elephant-Atta-Medium-25-Kg-p188974269', 'https://www.eurasiaonline.ie/store/Elephant-Atta-White-10-Kg-p188974270', 'https://www.eurasiaonline.ie/store/Elephant-Brown-Atta-10-Kg-p188974271', 'https://www.eurasiaonline.ie/store/Elite-Chakki-Atta-10-Kg-p188974273', 'https://www.eurasiaonline.ie/store/Elite-Chakki-Atta-10-Kg-p188974274', 'https://www.eurasiaonline.ie/store/Heera-Chapatti-Flour-25-Kg-p188974517', 'https://www.eurasiaonline.ie/store/Heera-Chapatti-Medium-10-Kg-p188974518', 'https://www.eurasiaonline.ie/store/Iwisa-Flour-10-Kg-p188974692', 'https://www.eurasiaonline.ie/store/Pillsbury-Chakki-Atta-10-Kg-p188975075', 'https://www.eurasiaonline.ie/store/Swarna-Chakki-Fresh-Atta-10-Kg-p188975372']\n",
      "['https://www.eurasiaonline.ie/store/Aashirvaad-Chakki-Atta-10-Kg-p188932771', 'https://www.eurasiaonline.ie/store/Ashvill-Chakki-Atta-10-Kg-p188932835', 'https://www.eurasiaonline.ie/store/Ashvill-Chakki-Atta-20-Kg-p188932836', 'https://www.eurasiaonline.ie/store/East-End-Chakki-Gold-Atta-10-Kg-p188974154', 'https://www.eurasiaonline.ie/store/Elephant-Atta-Medium-10-Kg-p188974268', 'https://www.eurasiaonline.ie/store/Elephant-Atta-Medium-25-Kg-p188974269', 'https://www.eurasiaonline.ie/store/Elephant-Atta-White-10-Kg-p188974270', 'https://www.eurasiaonline.ie/store/Elephant-Brown-Atta-10-Kg-p188974271', 'https://www.eurasiaonline.ie/store/Elite-Chakki-Atta-10-Kg-p188974273', 'https://www.eurasiaonline.ie/store/Elite-Chakki-Atta-10-Kg-p188974274', 'https://www.eurasiaonline.ie/store/Heera-Chapatti-Flour-25-Kg-p188974517', 'https://www.eurasiaonline.ie/store/Heera-Chapatti-Medium-10-Kg-p188974518', 'https://www.eurasiaonline.ie/store/Iwisa-Flour-10-Kg-p188974692', 'https://www.eurasiaonline.ie/store/Pillsbury-Chakki-Atta-10-Kg-p188975075', 'https://www.eurasiaonline.ie/store/Swarna-Chakki-Fresh-Atta-10-Kg-p188975372', 'https://www.eurasiaonline.ie/store/Anil-Atta-10Kg-p283220946']\n",
      "['https://www.eurasiaonline.ie/store/Aashirvaad-Chakki-Atta-10-Kg-p188932771', 'https://www.eurasiaonline.ie/store/Ashvill-Chakki-Atta-10-Kg-p188932835', 'https://www.eurasiaonline.ie/store/Ashvill-Chakki-Atta-20-Kg-p188932836', 'https://www.eurasiaonline.ie/store/East-End-Chakki-Gold-Atta-10-Kg-p188974154', 'https://www.eurasiaonline.ie/store/Elephant-Atta-Medium-10-Kg-p188974268', 'https://www.eurasiaonline.ie/store/Elephant-Atta-Medium-25-Kg-p188974269', 'https://www.eurasiaonline.ie/store/Elephant-Atta-White-10-Kg-p188974270', 'https://www.eurasiaonline.ie/store/Elephant-Brown-Atta-10-Kg-p188974271', 'https://www.eurasiaonline.ie/store/Elite-Chakki-Atta-10-Kg-p188974273', 'https://www.eurasiaonline.ie/store/Elite-Chakki-Atta-10-Kg-p188974274', 'https://www.eurasiaonline.ie/store/Heera-Chapatti-Flour-25-Kg-p188974517', 'https://www.eurasiaonline.ie/store/Heera-Chapatti-Medium-10-Kg-p188974518', 'https://www.eurasiaonline.ie/store/Iwisa-Flour-10-Kg-p188974692', 'https://www.eurasiaonline.ie/store/Pillsbury-Chakki-Atta-10-Kg-p188975075', 'https://www.eurasiaonline.ie/store/Swarna-Chakki-Fresh-Atta-10-Kg-p188975372', 'https://www.eurasiaonline.ie/store/Anil-Atta-10Kg-p283220946', 'https://www.eurasiaonline.ie/store/Anil-Chakki-Atta-10Kg-p283225642']\n"
     ]
    }
   ],
   "source": [
    "links = []\n",
    "for i in element:\n",
    "    links.append(i.get_attribute(\"href\"))\n",
    "    print(links)"
   ]
  },
  {
   "cell_type": "code",
   "execution_count": 72,
   "metadata": {},
   "outputs": [
    {
     "ename": "WebDriverException",
     "evalue": "Message: unknown error: cannot determine loading status\nfrom disconnected: received Inspector.detached event\n  (Session info: chrome=90.0.4430.93)\n",
     "output_type": "error",
     "traceback": [
      "\u001b[1;31m---------------------------------------------------------------------------\u001b[0m",
      "\u001b[1;31mWebDriverException\u001b[0m                        Traceback (most recent call last)",
      "\u001b[1;32m<ipython-input-72-02982ff2ce2d>\u001b[0m in \u001b[0;36m<module>\u001b[1;34m\u001b[0m\n\u001b[0;32m      1\u001b[0m \u001b[1;32mfor\u001b[0m \u001b[0mi\u001b[0m \u001b[1;32min\u001b[0m \u001b[0mlinks\u001b[0m\u001b[1;33m:\u001b[0m\u001b[1;33m\u001b[0m\u001b[1;33m\u001b[0m\u001b[0m\n\u001b[0;32m      2\u001b[0m     \u001b[0mdriver\u001b[0m \u001b[1;33m=\u001b[0m \u001b[0mwebdriver\u001b[0m\u001b[1;33m.\u001b[0m\u001b[0mChrome\u001b[0m\u001b[1;33m(\u001b[0m\u001b[0mexecutable_path\u001b[0m\u001b[1;33m=\u001b[0m \u001b[1;34m\"C:/New folder/chromedriver.exe\"\u001b[0m\u001b[1;33m)\u001b[0m\u001b[1;33m\u001b[0m\u001b[1;33m\u001b[0m\u001b[0m\n\u001b[1;32m----> 3\u001b[1;33m     \u001b[0mdriver\u001b[0m\u001b[1;33m.\u001b[0m\u001b[0mget\u001b[0m\u001b[1;33m(\u001b[0m\u001b[0mi\u001b[0m\u001b[1;33m)\u001b[0m\u001b[1;33m\u001b[0m\u001b[1;33m\u001b[0m\u001b[0m\n\u001b[0m\u001b[0;32m      4\u001b[0m     \u001b[0mtime\u001b[0m\u001b[1;33m.\u001b[0m\u001b[0msleep\u001b[0m\u001b[1;33m(\u001b[0m\u001b[1;36m5\u001b[0m\u001b[1;33m)\u001b[0m\u001b[1;33m\u001b[0m\u001b[1;33m\u001b[0m\u001b[0m\n",
      "\u001b[1;32mC:\\ProgramData\\Anaconda3\\lib\\site-packages\\selenium\\webdriver\\remote\\webdriver.py\u001b[0m in \u001b[0;36mget\u001b[1;34m(self, url)\u001b[0m\n\u001b[0;32m    331\u001b[0m         \u001b[0mLoads\u001b[0m \u001b[0ma\u001b[0m \u001b[0mweb\u001b[0m \u001b[0mpage\u001b[0m \u001b[1;32min\u001b[0m \u001b[0mthe\u001b[0m \u001b[0mcurrent\u001b[0m \u001b[0mbrowser\u001b[0m \u001b[0msession\u001b[0m\u001b[1;33m.\u001b[0m\u001b[1;33m\u001b[0m\u001b[1;33m\u001b[0m\u001b[0m\n\u001b[0;32m    332\u001b[0m         \"\"\"\n\u001b[1;32m--> 333\u001b[1;33m         \u001b[0mself\u001b[0m\u001b[1;33m.\u001b[0m\u001b[0mexecute\u001b[0m\u001b[1;33m(\u001b[0m\u001b[0mCommand\u001b[0m\u001b[1;33m.\u001b[0m\u001b[0mGET\u001b[0m\u001b[1;33m,\u001b[0m \u001b[1;33m{\u001b[0m\u001b[1;34m'url'\u001b[0m\u001b[1;33m:\u001b[0m \u001b[0murl\u001b[0m\u001b[1;33m}\u001b[0m\u001b[1;33m)\u001b[0m\u001b[1;33m\u001b[0m\u001b[1;33m\u001b[0m\u001b[0m\n\u001b[0m\u001b[0;32m    334\u001b[0m \u001b[1;33m\u001b[0m\u001b[0m\n\u001b[0;32m    335\u001b[0m     \u001b[1;33m@\u001b[0m\u001b[0mproperty\u001b[0m\u001b[1;33m\u001b[0m\u001b[1;33m\u001b[0m\u001b[0m\n",
      "\u001b[1;32mC:\\ProgramData\\Anaconda3\\lib\\site-packages\\selenium\\webdriver\\remote\\webdriver.py\u001b[0m in \u001b[0;36mexecute\u001b[1;34m(self, driver_command, params)\u001b[0m\n\u001b[0;32m    319\u001b[0m         \u001b[0mresponse\u001b[0m \u001b[1;33m=\u001b[0m \u001b[0mself\u001b[0m\u001b[1;33m.\u001b[0m\u001b[0mcommand_executor\u001b[0m\u001b[1;33m.\u001b[0m\u001b[0mexecute\u001b[0m\u001b[1;33m(\u001b[0m\u001b[0mdriver_command\u001b[0m\u001b[1;33m,\u001b[0m \u001b[0mparams\u001b[0m\u001b[1;33m)\u001b[0m\u001b[1;33m\u001b[0m\u001b[1;33m\u001b[0m\u001b[0m\n\u001b[0;32m    320\u001b[0m         \u001b[1;32mif\u001b[0m \u001b[0mresponse\u001b[0m\u001b[1;33m:\u001b[0m\u001b[1;33m\u001b[0m\u001b[1;33m\u001b[0m\u001b[0m\n\u001b[1;32m--> 321\u001b[1;33m             \u001b[0mself\u001b[0m\u001b[1;33m.\u001b[0m\u001b[0merror_handler\u001b[0m\u001b[1;33m.\u001b[0m\u001b[0mcheck_response\u001b[0m\u001b[1;33m(\u001b[0m\u001b[0mresponse\u001b[0m\u001b[1;33m)\u001b[0m\u001b[1;33m\u001b[0m\u001b[1;33m\u001b[0m\u001b[0m\n\u001b[0m\u001b[0;32m    322\u001b[0m             response['value'] = self._unwrap_value(\n\u001b[0;32m    323\u001b[0m                 response.get('value', None))\n",
      "\u001b[1;32mC:\\ProgramData\\Anaconda3\\lib\\site-packages\\selenium\\webdriver\\remote\\errorhandler.py\u001b[0m in \u001b[0;36mcheck_response\u001b[1;34m(self, response)\u001b[0m\n\u001b[0;32m    240\u001b[0m                 \u001b[0malert_text\u001b[0m \u001b[1;33m=\u001b[0m \u001b[0mvalue\u001b[0m\u001b[1;33m[\u001b[0m\u001b[1;34m'alert'\u001b[0m\u001b[1;33m]\u001b[0m\u001b[1;33m.\u001b[0m\u001b[0mget\u001b[0m\u001b[1;33m(\u001b[0m\u001b[1;34m'text'\u001b[0m\u001b[1;33m)\u001b[0m\u001b[1;33m\u001b[0m\u001b[1;33m\u001b[0m\u001b[0m\n\u001b[0;32m    241\u001b[0m             \u001b[1;32mraise\u001b[0m \u001b[0mexception_class\u001b[0m\u001b[1;33m(\u001b[0m\u001b[0mmessage\u001b[0m\u001b[1;33m,\u001b[0m \u001b[0mscreen\u001b[0m\u001b[1;33m,\u001b[0m \u001b[0mstacktrace\u001b[0m\u001b[1;33m,\u001b[0m \u001b[0malert_text\u001b[0m\u001b[1;33m)\u001b[0m\u001b[1;33m\u001b[0m\u001b[1;33m\u001b[0m\u001b[0m\n\u001b[1;32m--> 242\u001b[1;33m         \u001b[1;32mraise\u001b[0m \u001b[0mexception_class\u001b[0m\u001b[1;33m(\u001b[0m\u001b[0mmessage\u001b[0m\u001b[1;33m,\u001b[0m \u001b[0mscreen\u001b[0m\u001b[1;33m,\u001b[0m \u001b[0mstacktrace\u001b[0m\u001b[1;33m)\u001b[0m\u001b[1;33m\u001b[0m\u001b[1;33m\u001b[0m\u001b[0m\n\u001b[0m\u001b[0;32m    243\u001b[0m \u001b[1;33m\u001b[0m\u001b[0m\n\u001b[0;32m    244\u001b[0m     \u001b[1;32mdef\u001b[0m \u001b[0m_value_or_default\u001b[0m\u001b[1;33m(\u001b[0m\u001b[0mself\u001b[0m\u001b[1;33m,\u001b[0m \u001b[0mobj\u001b[0m\u001b[1;33m,\u001b[0m \u001b[0mkey\u001b[0m\u001b[1;33m,\u001b[0m \u001b[0mdefault\u001b[0m\u001b[1;33m)\u001b[0m\u001b[1;33m:\u001b[0m\u001b[1;33m\u001b[0m\u001b[1;33m\u001b[0m\u001b[0m\n",
      "\u001b[1;31mWebDriverException\u001b[0m: Message: unknown error: cannot determine loading status\nfrom disconnected: received Inspector.detached event\n  (Session info: chrome=90.0.4430.93)\n"
     ]
    }
   ],
   "source": [
    "for i in links:\n",
    "    driver = webdriver.Chrome(executable_path= \"C:/New folder/chromedriver.exe\")\n",
    "    driver.get(i)\n",
    "    time.sleep(5)"
   ]
  },
  {
   "cell_type": "code",
   "execution_count": null,
   "metadata": {},
   "outputs": [],
   "source": [
    ":"
   ]
  }
 ],
 "metadata": {
  "kernelspec": {
   "display_name": "Python 3",
   "language": "python",
   "name": "python3"
  },
  "language_info": {
   "codemirror_mode": {
    "name": "ipython",
    "version": 3
   },
   "file_extension": ".py",
   "mimetype": "text/x-python",
   "name": "python",
   "nbconvert_exporter": "python",
   "pygments_lexer": "ipython3",
   "version": "3.8.5"
  }
 },
 "nbformat": 4,
 "nbformat_minor": 4
}
